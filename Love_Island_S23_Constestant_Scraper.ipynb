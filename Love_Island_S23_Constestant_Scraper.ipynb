{
  "nbformat": 4,
  "nbformat_minor": 0,
  "metadata": {
    "colab": {
      "provenance": [],
      "collapsed_sections": [
        "o_UR0qleZchL",
        "b14wD352J96M",
        "_dMAoeXLuVac",
        "Ac1lzrz4hnLD",
        "RyF-yf_YRf9A"
      ],
      "authorship_tag": "ABX9TyMDN+d/TKPyoapuoTsiTTwK",
      "include_colab_link": true
    },
    "kernelspec": {
      "name": "python3",
      "display_name": "Python 3"
    },
    "language_info": {
      "name": "python"
    }
  },
  "cells": [
    {
      "cell_type": "markdown",
      "metadata": {
        "id": "view-in-github",
        "colab_type": "text"
      },
      "source": [
        "<a href=\"https://colab.research.google.com/github/cecilylynn/data-science-projects/blob/main/Love_Island_S23_Constestant_Scraper.ipynb\" target=\"_parent\"><img src=\"https://colab.research.google.com/assets/colab-badge.svg\" alt=\"Open In Colab\"/></a>"
      ]
    },
    {
      "cell_type": "markdown",
      "source": [
        "#Love Island Summer 2023 Contestant Data Scraper\n",
        "\n",
        "As part of a larger Love Island data project, I need the basic info on each of the Islanders.\n",
        "\n",
        "From [Love Island 2023 cast: Full line-up of season 10 contestants](https://www.radiotimes.com/tv/entertainment/reality-tv/love-island-summer-2023-cast-line-up/), we can scrape the first and last names, ages, and instagram handles for each islander, using Real Python's [Beautiful Soup: Build a Web Scraper With Python](https://realpython.com/beautiful-soup-web-scraper-python/) as a guide.\n",
        "\n"
      ],
      "metadata": {
        "id": "_clJyqfB6EwT"
      }
    },
    {
      "cell_type": "markdown",
      "source": [
        "##The Scraper"
      ],
      "metadata": {
        "id": "duKmg7xAhvM6"
      }
    },
    {
      "cell_type": "markdown",
      "source": [
        "###Installing and importing packages"
      ],
      "metadata": {
        "id": "W49cIgYuZT4k"
      }
    },
    {
      "cell_type": "code",
      "source": [
        "#Installs\n",
        "\n",
        "!pip install requests\n",
        "!pip install beautifulsoup4"
      ],
      "metadata": {
        "colab": {
          "base_uri": "https://localhost:8080/"
        },
        "id": "98AS85Hohx5k",
        "outputId": "496fe0fe-39cc-4fb1-effa-5662b8244b51"
      },
      "execution_count": 40,
      "outputs": [
        {
          "output_type": "stream",
          "name": "stdout",
          "text": [
            "Requirement already satisfied: requests in /usr/local/lib/python3.10/dist-packages (2.27.1)\n",
            "Requirement already satisfied: urllib3<1.27,>=1.21.1 in /usr/local/lib/python3.10/dist-packages (from requests) (1.26.16)\n",
            "Requirement already satisfied: certifi>=2017.4.17 in /usr/local/lib/python3.10/dist-packages (from requests) (2023.5.7)\n",
            "Requirement already satisfied: charset-normalizer~=2.0.0 in /usr/local/lib/python3.10/dist-packages (from requests) (2.0.12)\n",
            "Requirement already satisfied: idna<4,>=2.5 in /usr/local/lib/python3.10/dist-packages (from requests) (3.4)\n",
            "Requirement already satisfied: beautifulsoup4 in /usr/local/lib/python3.10/dist-packages (4.11.2)\n",
            "Requirement already satisfied: soupsieve>1.2 in /usr/local/lib/python3.10/dist-packages (from beautifulsoup4) (2.4.1)\n"
          ]
        }
      ]
    },
    {
      "cell_type": "code",
      "execution_count": 41,
      "metadata": {
        "id": "5sdTMC6KLXR-"
      },
      "outputs": [],
      "source": [
        "#Imports\n",
        "\n",
        "import pandas as pd\n",
        "import requests\n",
        "from bs4 import BeautifulSoup"
      ]
    },
    {
      "cell_type": "markdown",
      "source": [
        "###Setting up the scraper"
      ],
      "metadata": {
        "id": "o_UR0qleZchL"
      }
    },
    {
      "cell_type": "markdown",
      "source": [
        "First, we need to grab the HTML from the page we want to scrape and parse it into a BeautifulSoup object"
      ],
      "metadata": {
        "id": "uwsyeDLmFYYx"
      }
    },
    {
      "cell_type": "code",
      "source": [
        "URL = \"https://www.radiotimes.com/tv/entertainment/reality-tv/love-island-summer-2023-cast-line-up/\"\n",
        "page = requests.get(URL)\n",
        "\n",
        "#print(page.text)\n",
        "\n",
        "soup = BeautifulSoup(page.content, \"html.parser\")\n"
      ],
      "metadata": {
        "id": "jH1LnLKcW3Uv"
      },
      "execution_count": 42,
      "outputs": []
    },
    {
      "cell_type": "markdown",
      "source": [
        "Get down into the HTML to narrow towards what we want"
      ],
      "metadata": {
        "id": "3dh7obQXJpHU"
      }
    },
    {
      "cell_type": "code",
      "source": [
        "page_text = soup.find(class_=\"editor-content mb-lg hidden-print js-piano-locked-content\")\n"
      ],
      "metadata": {
        "id": "lp666BWEIFV5"
      },
      "execution_count": 43,
      "outputs": []
    },
    {
      "cell_type": "markdown",
      "source": [
        "###Getting the names of the Islanders"
      ],
      "metadata": {
        "id": "b14wD352J96M"
      }
    },
    {
      "cell_type": "code",
      "source": [
        "#getting bs4 resultset of all the names using the fact that each name appears wrapped in an \"h2\" tag\n",
        "names = page_text.find_all(\"h2\")\n",
        "\n",
        "#doing a bit of cleaning, because there was some extraneous data in our results set\n",
        "names.remove(names[0])\n",
        "names.remove(names[24])\n",
        "names.remove(names[24])"
      ],
      "metadata": {
        "id": "X0dD0Kd5FTt1"
      },
      "execution_count": 44,
      "outputs": []
    },
    {
      "cell_type": "markdown",
      "source": [
        "We can extract the names from the html and use str methods to clean up the strings and split the names into first and last names, saving them to lists to add to our pandas dataframe later."
      ],
      "metadata": {
        "id": "LBiAlnmbTU3w"
      }
    },
    {
      "cell_type": "code",
      "source": [
        "first_names = []\n",
        "last_names= []\n",
        "\n",
        "for name in names:\n",
        "  name_text = name.text.split(' - ', 1)[0]\n",
        "  first_names.append(name_text.split(' ', 1)[0].strip())\n",
        "  last_names.append(name_text.split(' ', 1)[1].strip())\n"
      ],
      "metadata": {
        "id": "QGFZ96JpLbt1"
      },
      "execution_count": 45,
      "outputs": []
    },
    {
      "cell_type": "markdown",
      "source": [
        "###Getting Instagram URLs and handles"
      ],
      "metadata": {
        "id": "_dMAoeXLuVac"
      }
    },
    {
      "cell_type": "markdown",
      "source": [
        "Using the \"a\" tag to \"strain\" the instagram info from our soup. Creating lists for the URLs and handles, adding the data to the lists, and printing to check that it's done correctly."
      ],
      "metadata": {
        "id": "OOntQKptyKwC"
      }
    },
    {
      "cell_type": "code",
      "source": [
        "links = page_text.find_all(\"a\")\n",
        "\n",
        "insta_urls=[]\n",
        "insta_handles=[]\n",
        "\n",
        "index = 0\n",
        "for link in links:\n",
        "  if 'instagram' in link['href']:\n",
        "    insta_urls.append(link['href'])\n",
        "    insta_handles.append(link.text)\n",
        "    print(index, insta_urls[index], insta_handles[index])\n",
        "    index +=1"
      ],
      "metadata": {
        "colab": {
          "base_uri": "https://localhost:8080/"
        },
        "id": "UCx57YpkZg-0",
        "outputId": "a23e3971-f034-4a19-e28b-59098b799dda"
      },
      "execution_count": 46,
      "outputs": [
        {
          "output_type": "stream",
          "name": "stdout",
          "text": [
            "0 https://www.instagram.com/mollygracemarsh/?hl=en @mollygracemarsh\n",
            "1 https://www.instagram.com/daniellemazhindu/ @daniellemazhindu\n",
            "2 https://www.instagram.com/abimooresxox/?hl=en @abimooresxox\n",
            "3 https://www.instagram.com/tinkreadingxo/?hl=en-gb @tinkreadingxo\n",
            "4 https://www.instagram.com/kodiemurphy/?hl=en @kodiemurphy\n",
            "5 https://www.instagram.com/ouzysee_/ @ouzysee_\n",
            "6 https://www.instagram.com/z_ashford/?hl=en @z_ashford\n",
            "7 https://www.instagram.com/_truegains/?hl=en @_truegains\n",
            "8 https://www.instagram.com/benjaminn_noell/?hl=en @benjaminn_noell\n",
            "9 https://www.instagram.com/kadymcdermott/?hl=en @kadymcdermott\n",
            "10 https://www.instagram.com/montelmckenzie/ @montelmckenzie\n",
            "11 https://www.instagram.com/scottvds17/ @scottvds17\n",
            "12 https://www.instagram.com/leahjtaylorr/?hl=en @leahjtaylorr\n",
            "13 https://www.instagram.com/sammyroot_/ @sammyroot_\n",
            "14 https://www.instagram.com/whitbrownsx/ @whitbrownsx\n",
            "15 https://www.instagram.com/zachariah_noble97/ @zachariah_noble97\n",
            "16 https://www.instagram.com/tyriquehyde/ @tyriquehyde\n",
            "17 https://www.instagram.com/catherine_agbaje/ @catherine_agbaje\n",
            "18 https://www.instagram.com/ellathomas_/ @ellathomas_\n",
            "19 https://www.instagram.com/mitcheltaylor_/ @mitcheltaylor_\n",
            "20 https://www.instagram.com/jesshardingox/ @jesshardingox\n",
            "21 https://www.instagram.com/mehdiedno/ @mehdiedno\n",
            "22 https://www.instagram.com/mallurpaal/?hl=en @mallurpaal\n",
            "23 https://www.instagram.com/dre.furtado/ @dre.furtado\n",
            "24 https://www.instagram.com/charlottesumner_x/?hl=en @charlottesumner_x\n",
            "25 https://www.instagram.com/rucheewawo/ @rucheewawo\n"
          ]
        }
      ]
    },
    {
      "cell_type": "markdown",
      "source": [
        "Fortunately, these are in the same order as the islanders names, which will make matching them up easier.\n",
        "\n",
        "However, we immediately notice that there are fewer instagrams than there are islanders. We manually verify that these are missing from the website, so it's not a problem with the scraper.\n",
        "\n",
        "To deal with this, I'll manually find the instagrams of the missing islanders (or determine that they're unavailable) and insert them at the proper point in our lists."
      ],
      "metadata": {
        "id": "gPnOTgZJGXOJ"
      }
    },
    {
      "cell_type": "markdown",
      "source": [
        "**Missing:**\n",
        "\n",
        "Amber Wise @amberwse \\\\\n",
        "Gabby Jeffery @gabriellejefferyy \\\\\n",
        "Lochan Nowacki @lochan_nowacki \\\\\n",
        "George Fensom @georgefensom\n"
      ],
      "metadata": {
        "id": "-Q7g30OpLbKO"
      }
    },
    {
      "cell_type": "code",
      "source": [
        "#Amber\n",
        "index = first_names.index('Amber')\n",
        "url = 'https://www.instagram.com/amberwse/'\n",
        "handle = '@amberwse'\n",
        "\n",
        "insta_urls.insert(index, url)\n",
        "insta_handles.insert(index, handle)\n",
        "\n",
        "#Gabby\n",
        "index = first_names.index('Gabby')\n",
        "url = 'https://www.instagram.com/gabriellejefferyy/'\n",
        "handle = '@gabriellejefferyy'\n",
        "\n",
        "insta_urls.insert(index, url)\n",
        "insta_handles.insert(index, handle)\n",
        "\n",
        "#Lochan\n",
        "index = first_names.index('Lochan')\n",
        "url = 'https://www.instagram.com/lochan_nowacki/'\n",
        "handle = '@lochan_nowacki'\n",
        "\n",
        "insta_urls.insert(index, url)\n",
        "insta_handles.insert(index, handle)\n",
        "\n",
        "#George\n",
        "index = first_names.index('George')\n",
        "url = 'https://www.instagram.com/georgefensom/'\n",
        "handle = '@georgefensom'\n",
        "\n",
        "insta_urls.insert(index, url)\n",
        "insta_handles.insert(index, handle)"
      ],
      "metadata": {
        "id": "kg6jUL0gD1wg"
      },
      "execution_count": 47,
      "outputs": []
    },
    {
      "cell_type": "markdown",
      "source": [
        "Let's print out our new lists to verify that the insertions were completed correctly:"
      ],
      "metadata": {
        "id": "OfP5Wd1MPNfR"
      }
    },
    {
      "cell_type": "code",
      "source": [
        "index = 0\n",
        "for name in first_names:\n",
        "  print(index, first_names[index], insta_urls[index], insta_handles[index])\n",
        "  index +=1"
      ],
      "metadata": {
        "colab": {
          "base_uri": "https://localhost:8080/"
        },
        "id": "n05Jm2gyPX-E",
        "outputId": "09c30cb5-71c1-49d5-a8bd-675957d10000"
      },
      "execution_count": 48,
      "outputs": [
        {
          "output_type": "stream",
          "name": "stdout",
          "text": [
            "0 Molly https://www.instagram.com/mollygracemarsh/?hl=en @mollygracemarsh\n",
            "1 Danielle https://www.instagram.com/daniellemazhindu/ @daniellemazhindu\n",
            "2 Abi https://www.instagram.com/abimooresxox/?hl=en @abimooresxox\n",
            "3 Amber https://www.instagram.com/amberwse/ @amberwse\n",
            "4 Tink https://www.instagram.com/tinkreadingxo/?hl=en-gb @tinkreadingxo\n",
            "5 Gabby https://www.instagram.com/gabriellejefferyy/ @gabriellejefferyy\n",
            "6 Kodie https://www.instagram.com/kodiemurphy/?hl=en @kodiemurphy\n",
            "7 Ouzy https://www.instagram.com/ouzysee_/ @ouzysee_\n",
            "8 Zachary https://www.instagram.com/z_ashford/?hl=en @z_ashford\n",
            "9 Elom https://www.instagram.com/_truegains/?hl=en @_truegains\n",
            "10 Lochan https://www.instagram.com/lochan_nowacki/ @lochan_nowacki\n",
            "11 Benjamin https://www.instagram.com/benjaminn_noell/?hl=en @benjaminn_noell\n",
            "12 Kady https://www.instagram.com/kadymcdermott/?hl=en @kadymcdermott\n",
            "13 Montel https://www.instagram.com/montelmckenzie/ @montelmckenzie\n",
            "14 Scott https://www.instagram.com/scottvds17/ @scottvds17\n",
            "15 Leah https://www.instagram.com/leahjtaylorr/?hl=en @leahjtaylorr\n",
            "16 Sammy https://www.instagram.com/sammyroot_/ @sammyroot_\n",
            "17 Whitney https://www.instagram.com/whitbrownsx/ @whitbrownsx\n",
            "18 Zachariah https://www.instagram.com/zachariah_noble97/ @zachariah_noble97\n",
            "19 Tyrique https://www.instagram.com/tyriquehyde/ @tyriquehyde\n",
            "20 Catherine https://www.instagram.com/catherine_agbaje/ @catherine_agbaje\n",
            "21 Ella https://www.instagram.com/ellathomas_/ @ellathomas_\n",
            "22 Mitchel https://www.instagram.com/mitcheltaylor_/ @mitcheltaylor_\n",
            "23 Jess https://www.instagram.com/jesshardingox/ @jesshardingox\n",
            "24 Mehdi https://www.instagram.com/mehdiedno/ @mehdiedno\n",
            "25 Mal https://www.instagram.com/mallurpaal/?hl=en @mallurpaal\n",
            "26 André https://www.instagram.com/dre.furtado/ @dre.furtado\n",
            "27 Charlotte https://www.instagram.com/charlottesumner_x/?hl=en @charlottesumner_x\n",
            "28 Ruchee https://www.instagram.com/rucheewawo/ @rucheewawo\n",
            "29 George https://www.instagram.com/georgefensom/ @georgefensom\n"
          ]
        }
      ]
    },
    {
      "cell_type": "markdown",
      "source": [
        "###Manually creating a list for \"Sex\""
      ],
      "metadata": {
        "id": "Ac1lzrz4hnLD"
      }
    },
    {
      "cell_type": "code",
      "source": [
        "sex = ['F',\n",
        "       'F',\n",
        "       'F',\n",
        "       'F',\n",
        "       'F',\n",
        "       'F',\n",
        "       'M',\n",
        "       'M',\n",
        "       'M',\n",
        "       'M',\n",
        "       'M',\n",
        "       'M',\n",
        "       'F',\n",
        "       'M',\n",
        "       'M',\n",
        "       'F',\n",
        "       'M',\n",
        "       'F',\n",
        "       'M',\n",
        "       'M',\n",
        "       'F',\n",
        "       'F',\n",
        "       'M',\n",
        "       'F',\n",
        "       'M',\n",
        "       'F',\n",
        "       'M',\n",
        "       'F',\n",
        "       'F',\n",
        "       'M']"
      ],
      "metadata": {
        "id": "IKJ3qJ6jhrCZ"
      },
      "execution_count": 49,
      "outputs": []
    },
    {
      "cell_type": "markdown",
      "source": [
        "##Putting it all together in a pandas dataframe"
      ],
      "metadata": {
        "id": "RNK8TlADgp2v"
      }
    },
    {
      "cell_type": "markdown",
      "source": [
        "Since we saved everything in lists, we can easily construct a pandas dataframe to hold all our information."
      ],
      "metadata": {
        "id": "hhk7Md6oY3YI"
      }
    },
    {
      "cell_type": "code",
      "source": [
        "islanders_df=pd.DataFrame({'First_Name': first_names,\n",
        "                           'Last_Name': last_names,\n",
        "                           'Sex': sex,\n",
        "                           'Insta_URLs': insta_urls,\n",
        "                           'Insta_Handles': insta_handles})"
      ],
      "metadata": {
        "id": "xVrQCsJHgtoK"
      },
      "execution_count": 50,
      "outputs": []
    },
    {
      "cell_type": "code",
      "source": [
        "islanders_df"
      ],
      "metadata": {
        "colab": {
          "base_uri": "https://localhost:8080/",
          "height": 990
        },
        "id": "408lgmuQhH6t",
        "outputId": "1aba1cfb-f2e8-46d0-88b7-934067f082b5"
      },
      "execution_count": 51,
      "outputs": [
        {
          "output_type": "execute_result",
          "data": {
            "text/plain": [
              "   First_Name       Last_Name Sex  \\\n",
              "0       Molly           Marsh   F   \n",
              "1    Danielle        Mazhindu   F   \n",
              "2         Abi          Moores   F   \n",
              "3       Amber            Wise   F   \n",
              "4        Tink         Reading   F   \n",
              "5       Gabby         Jeffery   F   \n",
              "6       Kodie          Murphy   M   \n",
              "7        Ouzy             See   M   \n",
              "8     Zachary         Ashford   M   \n",
              "9        Elom  Ahlijah-Wilson   M   \n",
              "10     Lochan         Nowacki   M   \n",
              "11   Benjamin            Noel   M   \n",
              "12       Kady       McDermott   F   \n",
              "13     Montel        McKenzie   M   \n",
              "14      Scott   van der Sluis   M   \n",
              "15       Leah          Taylor   F   \n",
              "16      Sammy            Root   M   \n",
              "17    Whitney         Adebayo   F   \n",
              "18  Zachariah           Noble   M   \n",
              "19    Tyrique            Hyde   M   \n",
              "20  Catherine          Agbaje   F   \n",
              "21       Ella          Thomas   F   \n",
              "22    Mitchel          Taylor   M   \n",
              "23       Jess         Harding   F   \n",
              "24      Mehdi            Edno   M   \n",
              "25        Mal           Nicol   F   \n",
              "26      André         Furtado   M   \n",
              "27  Charlotte          Sumner   F   \n",
              "28     Ruchee          Gurung   F   \n",
              "29     George          Fensom   M   \n",
              "\n",
              "                                           Insta_URLs       Insta_Handles  \n",
              "0    https://www.instagram.com/mollygracemarsh/?hl=en    @mollygracemarsh  \n",
              "1         https://www.instagram.com/daniellemazhindu/   @daniellemazhindu  \n",
              "2       https://www.instagram.com/abimooresxox/?hl=en       @abimooresxox  \n",
              "3                 https://www.instagram.com/amberwse/           @amberwse  \n",
              "4   https://www.instagram.com/tinkreadingxo/?hl=en-gb      @tinkreadingxo  \n",
              "5        https://www.instagram.com/gabriellejefferyy/  @gabriellejefferyy  \n",
              "6        https://www.instagram.com/kodiemurphy/?hl=en        @kodiemurphy  \n",
              "7                 https://www.instagram.com/ouzysee_/           @ouzysee_  \n",
              "8          https://www.instagram.com/z_ashford/?hl=en          @z_ashford  \n",
              "9         https://www.instagram.com/_truegains/?hl=en         @_truegains  \n",
              "10          https://www.instagram.com/lochan_nowacki/     @lochan_nowacki  \n",
              "11   https://www.instagram.com/benjaminn_noell/?hl=en    @benjaminn_noell  \n",
              "12     https://www.instagram.com/kadymcdermott/?hl=en      @kadymcdermott  \n",
              "13          https://www.instagram.com/montelmckenzie/     @montelmckenzie  \n",
              "14              https://www.instagram.com/scottvds17/         @scottvds17  \n",
              "15      https://www.instagram.com/leahjtaylorr/?hl=en       @leahjtaylorr  \n",
              "16              https://www.instagram.com/sammyroot_/         @sammyroot_  \n",
              "17             https://www.instagram.com/whitbrownsx/        @whitbrownsx  \n",
              "18       https://www.instagram.com/zachariah_noble97/  @zachariah_noble97  \n",
              "19             https://www.instagram.com/tyriquehyde/        @tyriquehyde  \n",
              "20        https://www.instagram.com/catherine_agbaje/   @catherine_agbaje  \n",
              "21             https://www.instagram.com/ellathomas_/        @ellathomas_  \n",
              "22          https://www.instagram.com/mitcheltaylor_/     @mitcheltaylor_  \n",
              "23           https://www.instagram.com/jesshardingox/      @jesshardingox  \n",
              "24               https://www.instagram.com/mehdiedno/          @mehdiedno  \n",
              "25        https://www.instagram.com/mallurpaal/?hl=en         @mallurpaal  \n",
              "26             https://www.instagram.com/dre.furtado/        @dre.furtado  \n",
              "27  https://www.instagram.com/charlottesumner_x/?h...  @charlottesumner_x  \n",
              "28              https://www.instagram.com/rucheewawo/         @rucheewawo  \n",
              "29            https://www.instagram.com/georgefensom/       @georgefensom  "
            ],
            "text/html": [
              "\n",
              "  <div id=\"df-e246286f-5be6-4e9b-acd3-29a5707dccd6\">\n",
              "    <div class=\"colab-df-container\">\n",
              "      <div>\n",
              "<style scoped>\n",
              "    .dataframe tbody tr th:only-of-type {\n",
              "        vertical-align: middle;\n",
              "    }\n",
              "\n",
              "    .dataframe tbody tr th {\n",
              "        vertical-align: top;\n",
              "    }\n",
              "\n",
              "    .dataframe thead th {\n",
              "        text-align: right;\n",
              "    }\n",
              "</style>\n",
              "<table border=\"1\" class=\"dataframe\">\n",
              "  <thead>\n",
              "    <tr style=\"text-align: right;\">\n",
              "      <th></th>\n",
              "      <th>First_Name</th>\n",
              "      <th>Last_Name</th>\n",
              "      <th>Sex</th>\n",
              "      <th>Insta_URLs</th>\n",
              "      <th>Insta_Handles</th>\n",
              "    </tr>\n",
              "  </thead>\n",
              "  <tbody>\n",
              "    <tr>\n",
              "      <th>0</th>\n",
              "      <td>Molly</td>\n",
              "      <td>Marsh</td>\n",
              "      <td>F</td>\n",
              "      <td>https://www.instagram.com/mollygracemarsh/?hl=en</td>\n",
              "      <td>@mollygracemarsh</td>\n",
              "    </tr>\n",
              "    <tr>\n",
              "      <th>1</th>\n",
              "      <td>Danielle</td>\n",
              "      <td>Mazhindu</td>\n",
              "      <td>F</td>\n",
              "      <td>https://www.instagram.com/daniellemazhindu/</td>\n",
              "      <td>@daniellemazhindu</td>\n",
              "    </tr>\n",
              "    <tr>\n",
              "      <th>2</th>\n",
              "      <td>Abi</td>\n",
              "      <td>Moores</td>\n",
              "      <td>F</td>\n",
              "      <td>https://www.instagram.com/abimooresxox/?hl=en</td>\n",
              "      <td>@abimooresxox</td>\n",
              "    </tr>\n",
              "    <tr>\n",
              "      <th>3</th>\n",
              "      <td>Amber</td>\n",
              "      <td>Wise</td>\n",
              "      <td>F</td>\n",
              "      <td>https://www.instagram.com/amberwse/</td>\n",
              "      <td>@amberwse</td>\n",
              "    </tr>\n",
              "    <tr>\n",
              "      <th>4</th>\n",
              "      <td>Tink</td>\n",
              "      <td>Reading</td>\n",
              "      <td>F</td>\n",
              "      <td>https://www.instagram.com/tinkreadingxo/?hl=en-gb</td>\n",
              "      <td>@tinkreadingxo</td>\n",
              "    </tr>\n",
              "    <tr>\n",
              "      <th>5</th>\n",
              "      <td>Gabby</td>\n",
              "      <td>Jeffery</td>\n",
              "      <td>F</td>\n",
              "      <td>https://www.instagram.com/gabriellejefferyy/</td>\n",
              "      <td>@gabriellejefferyy</td>\n",
              "    </tr>\n",
              "    <tr>\n",
              "      <th>6</th>\n",
              "      <td>Kodie</td>\n",
              "      <td>Murphy</td>\n",
              "      <td>M</td>\n",
              "      <td>https://www.instagram.com/kodiemurphy/?hl=en</td>\n",
              "      <td>@kodiemurphy</td>\n",
              "    </tr>\n",
              "    <tr>\n",
              "      <th>7</th>\n",
              "      <td>Ouzy</td>\n",
              "      <td>See</td>\n",
              "      <td>M</td>\n",
              "      <td>https://www.instagram.com/ouzysee_/</td>\n",
              "      <td>@ouzysee_</td>\n",
              "    </tr>\n",
              "    <tr>\n",
              "      <th>8</th>\n",
              "      <td>Zachary</td>\n",
              "      <td>Ashford</td>\n",
              "      <td>M</td>\n",
              "      <td>https://www.instagram.com/z_ashford/?hl=en</td>\n",
              "      <td>@z_ashford</td>\n",
              "    </tr>\n",
              "    <tr>\n",
              "      <th>9</th>\n",
              "      <td>Elom</td>\n",
              "      <td>Ahlijah-Wilson</td>\n",
              "      <td>M</td>\n",
              "      <td>https://www.instagram.com/_truegains/?hl=en</td>\n",
              "      <td>@_truegains</td>\n",
              "    </tr>\n",
              "    <tr>\n",
              "      <th>10</th>\n",
              "      <td>Lochan</td>\n",
              "      <td>Nowacki</td>\n",
              "      <td>M</td>\n",
              "      <td>https://www.instagram.com/lochan_nowacki/</td>\n",
              "      <td>@lochan_nowacki</td>\n",
              "    </tr>\n",
              "    <tr>\n",
              "      <th>11</th>\n",
              "      <td>Benjamin</td>\n",
              "      <td>Noel</td>\n",
              "      <td>M</td>\n",
              "      <td>https://www.instagram.com/benjaminn_noell/?hl=en</td>\n",
              "      <td>@benjaminn_noell</td>\n",
              "    </tr>\n",
              "    <tr>\n",
              "      <th>12</th>\n",
              "      <td>Kady</td>\n",
              "      <td>McDermott</td>\n",
              "      <td>F</td>\n",
              "      <td>https://www.instagram.com/kadymcdermott/?hl=en</td>\n",
              "      <td>@kadymcdermott</td>\n",
              "    </tr>\n",
              "    <tr>\n",
              "      <th>13</th>\n",
              "      <td>Montel</td>\n",
              "      <td>McKenzie</td>\n",
              "      <td>M</td>\n",
              "      <td>https://www.instagram.com/montelmckenzie/</td>\n",
              "      <td>@montelmckenzie</td>\n",
              "    </tr>\n",
              "    <tr>\n",
              "      <th>14</th>\n",
              "      <td>Scott</td>\n",
              "      <td>van der Sluis</td>\n",
              "      <td>M</td>\n",
              "      <td>https://www.instagram.com/scottvds17/</td>\n",
              "      <td>@scottvds17</td>\n",
              "    </tr>\n",
              "    <tr>\n",
              "      <th>15</th>\n",
              "      <td>Leah</td>\n",
              "      <td>Taylor</td>\n",
              "      <td>F</td>\n",
              "      <td>https://www.instagram.com/leahjtaylorr/?hl=en</td>\n",
              "      <td>@leahjtaylorr</td>\n",
              "    </tr>\n",
              "    <tr>\n",
              "      <th>16</th>\n",
              "      <td>Sammy</td>\n",
              "      <td>Root</td>\n",
              "      <td>M</td>\n",
              "      <td>https://www.instagram.com/sammyroot_/</td>\n",
              "      <td>@sammyroot_</td>\n",
              "    </tr>\n",
              "    <tr>\n",
              "      <th>17</th>\n",
              "      <td>Whitney</td>\n",
              "      <td>Adebayo</td>\n",
              "      <td>F</td>\n",
              "      <td>https://www.instagram.com/whitbrownsx/</td>\n",
              "      <td>@whitbrownsx</td>\n",
              "    </tr>\n",
              "    <tr>\n",
              "      <th>18</th>\n",
              "      <td>Zachariah</td>\n",
              "      <td>Noble</td>\n",
              "      <td>M</td>\n",
              "      <td>https://www.instagram.com/zachariah_noble97/</td>\n",
              "      <td>@zachariah_noble97</td>\n",
              "    </tr>\n",
              "    <tr>\n",
              "      <th>19</th>\n",
              "      <td>Tyrique</td>\n",
              "      <td>Hyde</td>\n",
              "      <td>M</td>\n",
              "      <td>https://www.instagram.com/tyriquehyde/</td>\n",
              "      <td>@tyriquehyde</td>\n",
              "    </tr>\n",
              "    <tr>\n",
              "      <th>20</th>\n",
              "      <td>Catherine</td>\n",
              "      <td>Agbaje</td>\n",
              "      <td>F</td>\n",
              "      <td>https://www.instagram.com/catherine_agbaje/</td>\n",
              "      <td>@catherine_agbaje</td>\n",
              "    </tr>\n",
              "    <tr>\n",
              "      <th>21</th>\n",
              "      <td>Ella</td>\n",
              "      <td>Thomas</td>\n",
              "      <td>F</td>\n",
              "      <td>https://www.instagram.com/ellathomas_/</td>\n",
              "      <td>@ellathomas_</td>\n",
              "    </tr>\n",
              "    <tr>\n",
              "      <th>22</th>\n",
              "      <td>Mitchel</td>\n",
              "      <td>Taylor</td>\n",
              "      <td>M</td>\n",
              "      <td>https://www.instagram.com/mitcheltaylor_/</td>\n",
              "      <td>@mitcheltaylor_</td>\n",
              "    </tr>\n",
              "    <tr>\n",
              "      <th>23</th>\n",
              "      <td>Jess</td>\n",
              "      <td>Harding</td>\n",
              "      <td>F</td>\n",
              "      <td>https://www.instagram.com/jesshardingox/</td>\n",
              "      <td>@jesshardingox</td>\n",
              "    </tr>\n",
              "    <tr>\n",
              "      <th>24</th>\n",
              "      <td>Mehdi</td>\n",
              "      <td>Edno</td>\n",
              "      <td>M</td>\n",
              "      <td>https://www.instagram.com/mehdiedno/</td>\n",
              "      <td>@mehdiedno</td>\n",
              "    </tr>\n",
              "    <tr>\n",
              "      <th>25</th>\n",
              "      <td>Mal</td>\n",
              "      <td>Nicol</td>\n",
              "      <td>F</td>\n",
              "      <td>https://www.instagram.com/mallurpaal/?hl=en</td>\n",
              "      <td>@mallurpaal</td>\n",
              "    </tr>\n",
              "    <tr>\n",
              "      <th>26</th>\n",
              "      <td>André</td>\n",
              "      <td>Furtado</td>\n",
              "      <td>M</td>\n",
              "      <td>https://www.instagram.com/dre.furtado/</td>\n",
              "      <td>@dre.furtado</td>\n",
              "    </tr>\n",
              "    <tr>\n",
              "      <th>27</th>\n",
              "      <td>Charlotte</td>\n",
              "      <td>Sumner</td>\n",
              "      <td>F</td>\n",
              "      <td>https://www.instagram.com/charlottesumner_x/?h...</td>\n",
              "      <td>@charlottesumner_x</td>\n",
              "    </tr>\n",
              "    <tr>\n",
              "      <th>28</th>\n",
              "      <td>Ruchee</td>\n",
              "      <td>Gurung</td>\n",
              "      <td>F</td>\n",
              "      <td>https://www.instagram.com/rucheewawo/</td>\n",
              "      <td>@rucheewawo</td>\n",
              "    </tr>\n",
              "    <tr>\n",
              "      <th>29</th>\n",
              "      <td>George</td>\n",
              "      <td>Fensom</td>\n",
              "      <td>M</td>\n",
              "      <td>https://www.instagram.com/georgefensom/</td>\n",
              "      <td>@georgefensom</td>\n",
              "    </tr>\n",
              "  </tbody>\n",
              "</table>\n",
              "</div>\n",
              "      <button class=\"colab-df-convert\" onclick=\"convertToInteractive('df-e246286f-5be6-4e9b-acd3-29a5707dccd6')\"\n",
              "              title=\"Convert this dataframe to an interactive table.\"\n",
              "              style=\"display:none;\">\n",
              "        \n",
              "  <svg xmlns=\"http://www.w3.org/2000/svg\" height=\"24px\"viewBox=\"0 0 24 24\"\n",
              "       width=\"24px\">\n",
              "    <path d=\"M0 0h24v24H0V0z\" fill=\"none\"/>\n",
              "    <path d=\"M18.56 5.44l.94 2.06.94-2.06 2.06-.94-2.06-.94-.94-2.06-.94 2.06-2.06.94zm-11 1L8.5 8.5l.94-2.06 2.06-.94-2.06-.94L8.5 2.5l-.94 2.06-2.06.94zm10 10l.94 2.06.94-2.06 2.06-.94-2.06-.94-.94-2.06-.94 2.06-2.06.94z\"/><path d=\"M17.41 7.96l-1.37-1.37c-.4-.4-.92-.59-1.43-.59-.52 0-1.04.2-1.43.59L10.3 9.45l-7.72 7.72c-.78.78-.78 2.05 0 2.83L4 21.41c.39.39.9.59 1.41.59.51 0 1.02-.2 1.41-.59l7.78-7.78 2.81-2.81c.8-.78.8-2.07 0-2.86zM5.41 20L4 18.59l7.72-7.72 1.47 1.35L5.41 20z\"/>\n",
              "  </svg>\n",
              "      </button>\n",
              "      \n",
              "  <style>\n",
              "    .colab-df-container {\n",
              "      display:flex;\n",
              "      flex-wrap:wrap;\n",
              "      gap: 12px;\n",
              "    }\n",
              "\n",
              "    .colab-df-convert {\n",
              "      background-color: #E8F0FE;\n",
              "      border: none;\n",
              "      border-radius: 50%;\n",
              "      cursor: pointer;\n",
              "      display: none;\n",
              "      fill: #1967D2;\n",
              "      height: 32px;\n",
              "      padding: 0 0 0 0;\n",
              "      width: 32px;\n",
              "    }\n",
              "\n",
              "    .colab-df-convert:hover {\n",
              "      background-color: #E2EBFA;\n",
              "      box-shadow: 0px 1px 2px rgba(60, 64, 67, 0.3), 0px 1px 3px 1px rgba(60, 64, 67, 0.15);\n",
              "      fill: #174EA6;\n",
              "    }\n",
              "\n",
              "    [theme=dark] .colab-df-convert {\n",
              "      background-color: #3B4455;\n",
              "      fill: #D2E3FC;\n",
              "    }\n",
              "\n",
              "    [theme=dark] .colab-df-convert:hover {\n",
              "      background-color: #434B5C;\n",
              "      box-shadow: 0px 1px 3px 1px rgba(0, 0, 0, 0.15);\n",
              "      filter: drop-shadow(0px 1px 2px rgba(0, 0, 0, 0.3));\n",
              "      fill: #FFFFFF;\n",
              "    }\n",
              "  </style>\n",
              "\n",
              "      <script>\n",
              "        const buttonEl =\n",
              "          document.querySelector('#df-e246286f-5be6-4e9b-acd3-29a5707dccd6 button.colab-df-convert');\n",
              "        buttonEl.style.display =\n",
              "          google.colab.kernel.accessAllowed ? 'block' : 'none';\n",
              "\n",
              "        async function convertToInteractive(key) {\n",
              "          const element = document.querySelector('#df-e246286f-5be6-4e9b-acd3-29a5707dccd6');\n",
              "          const dataTable =\n",
              "            await google.colab.kernel.invokeFunction('convertToInteractive',\n",
              "                                                     [key], {});\n",
              "          if (!dataTable) return;\n",
              "\n",
              "          const docLinkHtml = 'Like what you see? Visit the ' +\n",
              "            '<a target=\"_blank\" href=https://colab.research.google.com/notebooks/data_table.ipynb>data table notebook</a>'\n",
              "            + ' to learn more about interactive tables.';\n",
              "          element.innerHTML = '';\n",
              "          dataTable['output_type'] = 'display_data';\n",
              "          await google.colab.output.renderOutput(dataTable, element);\n",
              "          const docLink = document.createElement('div');\n",
              "          docLink.innerHTML = docLinkHtml;\n",
              "          element.appendChild(docLink);\n",
              "        }\n",
              "      </script>\n",
              "    </div>\n",
              "  </div>\n",
              "  "
            ]
          },
          "metadata": {},
          "execution_count": 51
        }
      ]
    },
    {
      "cell_type": "markdown",
      "source": [
        "##Exporting the result as a CSV:"
      ],
      "metadata": {
        "id": "RyF-yf_YRf9A"
      }
    },
    {
      "cell_type": "markdown",
      "source": [
        "This assumes that you're running this notebook in Google Colab."
      ],
      "metadata": {
        "id": "f_6fzbUXSCHe"
      }
    },
    {
      "cell_type": "markdown",
      "source": [
        "Download CSV to computer"
      ],
      "metadata": {
        "id": "CuMej0GPV-Bz"
      }
    },
    {
      "cell_type": "code",
      "source": [
        "from google.colab import files\n",
        "\n",
        "islanders_df.to_csv('islanders_S23.csv', encoding = 'utf-8-sig')\n",
        "files.download('islanders_S23.csv')"
      ],
      "metadata": {
        "colab": {
          "base_uri": "https://localhost:8080/",
          "height": 17
        },
        "id": "mkDLTARmhPp9",
        "outputId": "07e3341d-3263-4a64-b1fe-4c2bce274263"
      },
      "execution_count": 52,
      "outputs": [
        {
          "output_type": "display_data",
          "data": {
            "text/plain": [
              "<IPython.core.display.Javascript object>"
            ],
            "application/javascript": [
              "\n",
              "    async function download(id, filename, size) {\n",
              "      if (!google.colab.kernel.accessAllowed) {\n",
              "        return;\n",
              "      }\n",
              "      const div = document.createElement('div');\n",
              "      const label = document.createElement('label');\n",
              "      label.textContent = `Downloading \"${filename}\": `;\n",
              "      div.appendChild(label);\n",
              "      const progress = document.createElement('progress');\n",
              "      progress.max = size;\n",
              "      div.appendChild(progress);\n",
              "      document.body.appendChild(div);\n",
              "\n",
              "      const buffers = [];\n",
              "      let downloaded = 0;\n",
              "\n",
              "      const channel = await google.colab.kernel.comms.open(id);\n",
              "      // Send a message to notify the kernel that we're ready.\n",
              "      channel.send({})\n",
              "\n",
              "      for await (const message of channel.messages) {\n",
              "        // Send a message to notify the kernel that we're ready.\n",
              "        channel.send({})\n",
              "        if (message.buffers) {\n",
              "          for (const buffer of message.buffers) {\n",
              "            buffers.push(buffer);\n",
              "            downloaded += buffer.byteLength;\n",
              "            progress.value = downloaded;\n",
              "          }\n",
              "        }\n",
              "      }\n",
              "      const blob = new Blob(buffers, {type: 'application/binary'});\n",
              "      const a = document.createElement('a');\n",
              "      a.href = window.URL.createObjectURL(blob);\n",
              "      a.download = filename;\n",
              "      div.appendChild(a);\n",
              "      a.click();\n",
              "      div.remove();\n",
              "    }\n",
              "  "
            ]
          },
          "metadata": {}
        },
        {
          "output_type": "display_data",
          "data": {
            "text/plain": [
              "<IPython.core.display.Javascript object>"
            ],
            "application/javascript": [
              "download(\"download_4aa106d6-0cd3-4d97-a75f-79853b1c5443\", \"islanders_S23.csv\", 2324)"
            ]
          },
          "metadata": {}
        }
      ]
    }
  ]
}